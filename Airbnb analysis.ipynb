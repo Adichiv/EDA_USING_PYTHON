{
 "cells": [
  {
   "cell_type": "code",
   "execution_count": 120,
   "id": "57248b81",
   "metadata": {},
   "outputs": [],
   "source": [
    "import pandas as pd\n",
    "import matplotlib.pyplot as plt\n",
    "%matplotlib inline\n",
    "import seaborn as sns\n",
    "import numpy as np"
   ]
  },
  {
   "cell_type": "code",
   "execution_count": 2,
   "id": "64022e95",
   "metadata": {},
   "outputs": [],
   "source": [
    "airbnb = pd.read_csv(\"airbnb_prices.csv\")"
   ]
  },
  {
   "cell_type": "code",
   "execution_count": 3,
   "id": "f28017e8",
   "metadata": {},
   "outputs": [
    {
     "data": {
      "text/html": [
       "<div>\n",
       "<style scoped>\n",
       "    .dataframe tbody tr th:only-of-type {\n",
       "        vertical-align: middle;\n",
       "    }\n",
       "\n",
       "    .dataframe tbody tr th {\n",
       "        vertical-align: top;\n",
       "    }\n",
       "\n",
       "    .dataframe thead th {\n",
       "        text-align: right;\n",
       "    }\n",
       "</style>\n",
       "<table border=\"1\" class=\"dataframe\">\n",
       "  <thead>\n",
       "    <tr style=\"text-align: right;\">\n",
       "      <th></th>\n",
       "      <th>room_id</th>\n",
       "      <th>survey_id</th>\n",
       "      <th>host_id</th>\n",
       "      <th>room_type</th>\n",
       "      <th>country</th>\n",
       "      <th>city</th>\n",
       "      <th>borough</th>\n",
       "      <th>neighborhood</th>\n",
       "      <th>reviews</th>\n",
       "      <th>overall_satisfaction</th>\n",
       "      <th>accommodates</th>\n",
       "      <th>bedrooms</th>\n",
       "      <th>bathrooms</th>\n",
       "      <th>price</th>\n",
       "      <th>minstay</th>\n",
       "      <th>name</th>\n",
       "      <th>last_modified</th>\n",
       "      <th>latitude</th>\n",
       "      <th>longitude</th>\n",
       "      <th>location</th>\n",
       "    </tr>\n",
       "  </thead>\n",
       "  <tbody>\n",
       "    <tr>\n",
       "      <th>0</th>\n",
       "      <td>10176931</td>\n",
       "      <td>1476</td>\n",
       "      <td>49180562</td>\n",
       "      <td>Shared room</td>\n",
       "      <td>NaN</td>\n",
       "      <td>Amsterdam</td>\n",
       "      <td>NaN</td>\n",
       "      <td>De Pijp / Rivierenbuurt</td>\n",
       "      <td>7</td>\n",
       "      <td>4.5</td>\n",
       "      <td>2</td>\n",
       "      <td>1.0</td>\n",
       "      <td>NaN</td>\n",
       "      <td>156.0</td>\n",
       "      <td>NaN</td>\n",
       "      <td>Red Light/ Canal view apartment (Shared)</td>\n",
       "      <td>2017-07-23 13:06:27.391699</td>\n",
       "      <td>52.356209</td>\n",
       "      <td>4.887491</td>\n",
       "      <td>0101000020E610000033FAD170CA8C13403BC5AA41982D...</td>\n",
       "    </tr>\n",
       "    <tr>\n",
       "      <th>1</th>\n",
       "      <td>8935871</td>\n",
       "      <td>1476</td>\n",
       "      <td>46718394</td>\n",
       "      <td>Shared room</td>\n",
       "      <td>NaN</td>\n",
       "      <td>Amsterdam</td>\n",
       "      <td>NaN</td>\n",
       "      <td>Centrum West</td>\n",
       "      <td>45</td>\n",
       "      <td>4.5</td>\n",
       "      <td>4</td>\n",
       "      <td>1.0</td>\n",
       "      <td>NaN</td>\n",
       "      <td>126.0</td>\n",
       "      <td>NaN</td>\n",
       "      <td>Sunny and Cozy Living room in quite neighbours</td>\n",
       "      <td>2017-07-23 13:06:23.607187</td>\n",
       "      <td>52.378518</td>\n",
       "      <td>4.896120</td>\n",
       "      <td>0101000020E6100000842A357BA095134042791F477330...</td>\n",
       "    </tr>\n",
       "    <tr>\n",
       "      <th>2</th>\n",
       "      <td>14011697</td>\n",
       "      <td>1476</td>\n",
       "      <td>10346595</td>\n",
       "      <td>Shared room</td>\n",
       "      <td>NaN</td>\n",
       "      <td>Amsterdam</td>\n",
       "      <td>NaN</td>\n",
       "      <td>Watergraafsmeer</td>\n",
       "      <td>1</td>\n",
       "      <td>0.0</td>\n",
       "      <td>3</td>\n",
       "      <td>1.0</td>\n",
       "      <td>NaN</td>\n",
       "      <td>132.0</td>\n",
       "      <td>NaN</td>\n",
       "      <td>Amsterdam</td>\n",
       "      <td>2017-07-23 13:06:23.603546</td>\n",
       "      <td>52.338811</td>\n",
       "      <td>4.943592</td>\n",
       "      <td>0101000020E6100000A51133FB3CC613403543AA285E2B...</td>\n",
       "    </tr>\n",
       "    <tr>\n",
       "      <th>3</th>\n",
       "      <td>6137978</td>\n",
       "      <td>1476</td>\n",
       "      <td>8685430</td>\n",
       "      <td>Shared room</td>\n",
       "      <td>NaN</td>\n",
       "      <td>Amsterdam</td>\n",
       "      <td>NaN</td>\n",
       "      <td>Centrum West</td>\n",
       "      <td>7</td>\n",
       "      <td>5.0</td>\n",
       "      <td>4</td>\n",
       "      <td>1.0</td>\n",
       "      <td>NaN</td>\n",
       "      <td>121.0</td>\n",
       "      <td>NaN</td>\n",
       "      <td>Canal boat RIDE in Amsterdam</td>\n",
       "      <td>2017-07-23 13:06:22.689787</td>\n",
       "      <td>52.376319</td>\n",
       "      <td>4.890028</td>\n",
       "      <td>0101000020E6100000DF180280638F134085EE92382B30...</td>\n",
       "    </tr>\n",
       "    <tr>\n",
       "      <th>4</th>\n",
       "      <td>18630616</td>\n",
       "      <td>1476</td>\n",
       "      <td>70191803</td>\n",
       "      <td>Shared room</td>\n",
       "      <td>NaN</td>\n",
       "      <td>Amsterdam</td>\n",
       "      <td>NaN</td>\n",
       "      <td>De Baarsjes / Oud West</td>\n",
       "      <td>1</td>\n",
       "      <td>0.0</td>\n",
       "      <td>2</td>\n",
       "      <td>1.0</td>\n",
       "      <td>NaN</td>\n",
       "      <td>93.0</td>\n",
       "      <td>NaN</td>\n",
       "      <td>One room for rent in a three room appartment</td>\n",
       "      <td>2017-07-23 13:06:19.681469</td>\n",
       "      <td>52.370384</td>\n",
       "      <td>4.852873</td>\n",
       "      <td>0101000020E6100000CD902A8A57691340187B2FBE682F...</td>\n",
       "    </tr>\n",
       "  </tbody>\n",
       "</table>\n",
       "</div>"
      ],
      "text/plain": [
       "    room_id  survey_id   host_id    room_type  country       city  borough  \\\n",
       "0  10176931       1476  49180562  Shared room      NaN  Amsterdam      NaN   \n",
       "1   8935871       1476  46718394  Shared room      NaN  Amsterdam      NaN   \n",
       "2  14011697       1476  10346595  Shared room      NaN  Amsterdam      NaN   \n",
       "3   6137978       1476   8685430  Shared room      NaN  Amsterdam      NaN   \n",
       "4  18630616       1476  70191803  Shared room      NaN  Amsterdam      NaN   \n",
       "\n",
       "              neighborhood  reviews  overall_satisfaction  accommodates  \\\n",
       "0  De Pijp / Rivierenbuurt        7                   4.5             2   \n",
       "1             Centrum West       45                   4.5             4   \n",
       "2          Watergraafsmeer        1                   0.0             3   \n",
       "3             Centrum West        7                   5.0             4   \n",
       "4   De Baarsjes / Oud West        1                   0.0             2   \n",
       "\n",
       "   bedrooms  bathrooms  price  minstay  \\\n",
       "0       1.0        NaN  156.0      NaN   \n",
       "1       1.0        NaN  126.0      NaN   \n",
       "2       1.0        NaN  132.0      NaN   \n",
       "3       1.0        NaN  121.0      NaN   \n",
       "4       1.0        NaN   93.0      NaN   \n",
       "\n",
       "                                             name               last_modified  \\\n",
       "0        Red Light/ Canal view apartment (Shared)  2017-07-23 13:06:27.391699   \n",
       "1  Sunny and Cozy Living room in quite neighbours  2017-07-23 13:06:23.607187   \n",
       "2                                       Amsterdam  2017-07-23 13:06:23.603546   \n",
       "3                    Canal boat RIDE in Amsterdam  2017-07-23 13:06:22.689787   \n",
       "4    One room for rent in a three room appartment  2017-07-23 13:06:19.681469   \n",
       "\n",
       "    latitude  longitude                                           location  \n",
       "0  52.356209   4.887491  0101000020E610000033FAD170CA8C13403BC5AA41982D...  \n",
       "1  52.378518   4.896120  0101000020E6100000842A357BA095134042791F477330...  \n",
       "2  52.338811   4.943592  0101000020E6100000A51133FB3CC613403543AA285E2B...  \n",
       "3  52.376319   4.890028  0101000020E6100000DF180280638F134085EE92382B30...  \n",
       "4  52.370384   4.852873  0101000020E6100000CD902A8A57691340187B2FBE682F...  "
      ]
     },
     "execution_count": 3,
     "metadata": {},
     "output_type": "execute_result"
    }
   ],
   "source": [
    "airbnb.head()"
   ]
  },
  {
   "cell_type": "code",
   "execution_count": 4,
   "id": "acd9af64",
   "metadata": {},
   "outputs": [
    {
     "data": {
      "text/plain": [
       "(18723, 20)"
      ]
     },
     "execution_count": 4,
     "metadata": {},
     "output_type": "execute_result"
    }
   ],
   "source": [
    "airbnb.shape"
   ]
  },
  {
   "cell_type": "code",
   "execution_count": 4,
   "id": "46c51729",
   "metadata": {},
   "outputs": [
    {
     "name": "stdout",
     "output_type": "stream",
     "text": [
      "<class 'pandas.core.frame.DataFrame'>\n",
      "RangeIndex: 18723 entries, 0 to 18722\n",
      "Data columns (total 20 columns):\n",
      " #   Column                Non-Null Count  Dtype  \n",
      "---  ------                --------------  -----  \n",
      " 0   room_id               18723 non-null  int64  \n",
      " 1   survey_id             18723 non-null  int64  \n",
      " 2   host_id               18723 non-null  int64  \n",
      " 3   room_type             18723 non-null  object \n",
      " 4   country               0 non-null      float64\n",
      " 5   city                  18723 non-null  object \n",
      " 6   borough               0 non-null      float64\n",
      " 7   neighborhood          18723 non-null  object \n",
      " 8   reviews               18723 non-null  int64  \n",
      " 9   overall_satisfaction  18723 non-null  float64\n",
      " 10  accommodates          18723 non-null  int64  \n",
      " 11  bedrooms              18723 non-null  float64\n",
      " 12  bathrooms             0 non-null      float64\n",
      " 13  price                 18723 non-null  float64\n",
      " 14  minstay               0 non-null      float64\n",
      " 15  name                  18671 non-null  object \n",
      " 16  last_modified         18723 non-null  object \n",
      " 17  latitude              18723 non-null  float64\n",
      " 18  longitude             18723 non-null  float64\n",
      " 19  location              18723 non-null  object \n",
      "dtypes: float64(9), int64(5), object(6)\n",
      "memory usage: 2.9+ MB\n"
     ]
    }
   ],
   "source": [
    "airbnb.info()"
   ]
  },
  {
   "cell_type": "markdown",
   "id": "1f537a0c",
   "metadata": {},
   "source": [
    "# Cleaning the Data"
   ]
  },
  {
   "cell_type": "code",
   "execution_count": 17,
   "id": "9dd88eb4",
   "metadata": {},
   "outputs": [],
   "source": [
    "airbnb['bedrooms']=airbnb['bedrooms'].astype(int)"
   ]
  },
  {
   "cell_type": "code",
   "execution_count": 5,
   "id": "34a9137d",
   "metadata": {},
   "outputs": [],
   "source": [
    "#Dropping the columns that are not required\n",
    "airbnb.drop(columns=['country','borough','bathrooms','minstay','last_modified', 'latitude','longitude','location'], inplace = True)"
   ]
  },
  {
   "cell_type": "code",
   "execution_count": 6,
   "id": "372d0e60",
   "metadata": {},
   "outputs": [
    {
     "data": {
      "text/plain": [
       "(18723, 12)"
      ]
     },
     "execution_count": 6,
     "metadata": {},
     "output_type": "execute_result"
    }
   ],
   "source": [
    "airbnb.shape"
   ]
  },
  {
   "cell_type": "code",
   "execution_count": 7,
   "id": "3d51015c",
   "metadata": {},
   "outputs": [
    {
     "data": {
      "text/plain": [
       "room_id                  0\n",
       "survey_id                0\n",
       "host_id                  0\n",
       "room_type                0\n",
       "city                     0\n",
       "neighborhood             0\n",
       "reviews                  0\n",
       "overall_satisfaction     0\n",
       "accommodates             0\n",
       "bedrooms                 0\n",
       "price                    0\n",
       "name                    52\n",
       "dtype: int64"
      ]
     },
     "execution_count": 7,
     "metadata": {},
     "output_type": "execute_result"
    }
   ],
   "source": [
    "#Finding if any null values\n",
    "airbnb.isnull().sum()"
   ]
  },
  {
   "cell_type": "code",
   "execution_count": 8,
   "id": "2f582d97",
   "metadata": {},
   "outputs": [
    {
     "data": {
      "text/plain": [
       "0"
      ]
     },
     "execution_count": 8,
     "metadata": {},
     "output_type": "execute_result"
    }
   ],
   "source": [
    "airbnb.duplicated().sum()"
   ]
  },
  {
   "cell_type": "code",
   "execution_count": 12,
   "id": "dfcfd8d3",
   "metadata": {},
   "outputs": [
    {
     "data": {
      "text/plain": [
       "Entire home/apt    14978\n",
       "Private room        3682\n",
       "Shared room           63\n",
       "Name: room_type, dtype: int64"
      ]
     },
     "execution_count": 12,
     "metadata": {},
     "output_type": "execute_result"
    }
   ],
   "source": [
    "airbnb.room_type.value_counts()"
   ]
  },
  {
   "cell_type": "code",
   "execution_count": 9,
   "id": "ba05b3e0",
   "metadata": {},
   "outputs": [
    {
     "data": {
      "text/plain": [
       "0.0033648453773433744"
      ]
     },
     "execution_count": 9,
     "metadata": {},
     "output_type": "execute_result"
    }
   ],
   "source": [
    "air1 = airbnb[airbnb.room_type == 'Shared room']\n",
    "air1.shape[0]/airbnb.shape[0]"
   ]
  },
  {
   "cell_type": "code",
   "execution_count": 10,
   "id": "878cb850",
   "metadata": {},
   "outputs": [],
   "source": [
    "#The count of shared rooms is 0.3% of the total dataset, hence it can be neglegted.\n",
    "airbnb = airbnb[airbnb.room_type != 'Shared room']"
   ]
  },
  {
   "cell_type": "code",
   "execution_count": 11,
   "id": "0e83fad2",
   "metadata": {},
   "outputs": [
    {
     "data": {
      "text/plain": [
       "Entire home/apt    14978\n",
       "Private room        3682\n",
       "Name: room_type, dtype: int64"
      ]
     },
     "execution_count": 11,
     "metadata": {},
     "output_type": "execute_result"
    }
   ],
   "source": [
    "airbnb.room_type.value_counts()"
   ]
  },
  {
   "cell_type": "markdown",
   "id": "4b8a6255",
   "metadata": {},
   "source": [
    "# Analyzing the Data"
   ]
  },
  {
   "cell_type": "code",
   "execution_count": 12,
   "id": "70b433fe",
   "metadata": {},
   "outputs": [
    {
     "data": {
      "text/html": [
       "<div>\n",
       "<style scoped>\n",
       "    .dataframe tbody tr th:only-of-type {\n",
       "        vertical-align: middle;\n",
       "    }\n",
       "\n",
       "    .dataframe tbody tr th {\n",
       "        vertical-align: top;\n",
       "    }\n",
       "\n",
       "    .dataframe thead th {\n",
       "        text-align: right;\n",
       "    }\n",
       "</style>\n",
       "<table border=\"1\" class=\"dataframe\">\n",
       "  <thead>\n",
       "    <tr style=\"text-align: right;\">\n",
       "      <th></th>\n",
       "      <th>room_id</th>\n",
       "      <th>survey_id</th>\n",
       "      <th>host_id</th>\n",
       "      <th>reviews</th>\n",
       "      <th>overall_satisfaction</th>\n",
       "      <th>accommodates</th>\n",
       "      <th>bedrooms</th>\n",
       "      <th>price</th>\n",
       "    </tr>\n",
       "  </thead>\n",
       "  <tbody>\n",
       "    <tr>\n",
       "      <th>count</th>\n",
       "      <td>1.866000e+04</td>\n",
       "      <td>18660.0</td>\n",
       "      <td>1.866000e+04</td>\n",
       "      <td>18660.000000</td>\n",
       "      <td>18660.000000</td>\n",
       "      <td>18660.000000</td>\n",
       "      <td>18660.000000</td>\n",
       "      <td>18660.000000</td>\n",
       "    </tr>\n",
       "    <tr>\n",
       "      <th>mean</th>\n",
       "      <td>1.120262e+07</td>\n",
       "      <td>1476.0</td>\n",
       "      <td>3.575860e+07</td>\n",
       "      <td>16.729207</td>\n",
       "      <td>3.303778</td>\n",
       "      <td>2.921543</td>\n",
       "      <td>1.431833</td>\n",
       "      <td>166.811897</td>\n",
       "    </tr>\n",
       "    <tr>\n",
       "      <th>std</th>\n",
       "      <td>6.084245e+06</td>\n",
       "      <td>0.0</td>\n",
       "      <td>3.758082e+07</td>\n",
       "      <td>33.506653</td>\n",
       "      <td>2.213003</td>\n",
       "      <td>1.319141</td>\n",
       "      <td>0.880145</td>\n",
       "      <td>108.961385</td>\n",
       "    </tr>\n",
       "    <tr>\n",
       "      <th>min</th>\n",
       "      <td>2.818000e+03</td>\n",
       "      <td>1476.0</td>\n",
       "      <td>2.234000e+03</td>\n",
       "      <td>0.000000</td>\n",
       "      <td>0.000000</td>\n",
       "      <td>1.000000</td>\n",
       "      <td>0.000000</td>\n",
       "      <td>12.000000</td>\n",
       "    </tr>\n",
       "    <tr>\n",
       "      <th>25%</th>\n",
       "      <td>6.047014e+06</td>\n",
       "      <td>1476.0</td>\n",
       "      <td>7.125411e+06</td>\n",
       "      <td>2.000000</td>\n",
       "      <td>0.000000</td>\n",
       "      <td>2.000000</td>\n",
       "      <td>1.000000</td>\n",
       "      <td>108.000000</td>\n",
       "    </tr>\n",
       "    <tr>\n",
       "      <th>50%</th>\n",
       "      <td>1.228306e+07</td>\n",
       "      <td>1476.0</td>\n",
       "      <td>1.987107e+07</td>\n",
       "      <td>6.000000</td>\n",
       "      <td>4.500000</td>\n",
       "      <td>2.000000</td>\n",
       "      <td>1.000000</td>\n",
       "      <td>144.000000</td>\n",
       "    </tr>\n",
       "    <tr>\n",
       "      <th>75%</th>\n",
       "      <td>1.661017e+07</td>\n",
       "      <td>1476.0</td>\n",
       "      <td>5.201818e+07</td>\n",
       "      <td>17.000000</td>\n",
       "      <td>5.000000</td>\n",
       "      <td>4.000000</td>\n",
       "      <td>2.000000</td>\n",
       "      <td>192.000000</td>\n",
       "    </tr>\n",
       "    <tr>\n",
       "      <th>max</th>\n",
       "      <td>2.000373e+07</td>\n",
       "      <td>1476.0</td>\n",
       "      <td>1.418319e+08</td>\n",
       "      <td>532.000000</td>\n",
       "      <td>5.000000</td>\n",
       "      <td>17.000000</td>\n",
       "      <td>10.000000</td>\n",
       "      <td>6000.000000</td>\n",
       "    </tr>\n",
       "  </tbody>\n",
       "</table>\n",
       "</div>"
      ],
      "text/plain": [
       "            room_id  survey_id       host_id       reviews  \\\n",
       "count  1.866000e+04    18660.0  1.866000e+04  18660.000000   \n",
       "mean   1.120262e+07     1476.0  3.575860e+07     16.729207   \n",
       "std    6.084245e+06        0.0  3.758082e+07     33.506653   \n",
       "min    2.818000e+03     1476.0  2.234000e+03      0.000000   \n",
       "25%    6.047014e+06     1476.0  7.125411e+06      2.000000   \n",
       "50%    1.228306e+07     1476.0  1.987107e+07      6.000000   \n",
       "75%    1.661017e+07     1476.0  5.201818e+07     17.000000   \n",
       "max    2.000373e+07     1476.0  1.418319e+08    532.000000   \n",
       "\n",
       "       overall_satisfaction  accommodates      bedrooms         price  \n",
       "count          18660.000000  18660.000000  18660.000000  18660.000000  \n",
       "mean               3.303778      2.921543      1.431833    166.811897  \n",
       "std                2.213003      1.319141      0.880145    108.961385  \n",
       "min                0.000000      1.000000      0.000000     12.000000  \n",
       "25%                0.000000      2.000000      1.000000    108.000000  \n",
       "50%                4.500000      2.000000      1.000000    144.000000  \n",
       "75%                5.000000      4.000000      2.000000    192.000000  \n",
       "max                5.000000     17.000000     10.000000   6000.000000  "
      ]
     },
     "execution_count": 12,
     "metadata": {},
     "output_type": "execute_result"
    }
   ],
   "source": [
    "airbnb.describe()"
   ]
  },
  {
   "cell_type": "code",
   "execution_count": 17,
   "id": "39020e41",
   "metadata": {},
   "outputs": [
    {
     "data": {
      "text/plain": [
       "23"
      ]
     },
     "execution_count": 17,
     "metadata": {},
     "output_type": "execute_result"
    }
   ],
   "source": [
    "airbnb.neighborhood.nunique()"
   ]
  },
  {
   "cell_type": "code",
   "execution_count": 222,
   "id": "0b1a1ff6",
   "metadata": {},
   "outputs": [
    {
     "data": {
      "text/plain": [
       "array([ 8,  4,  6,  5,  3, 16, 10,  2,  7, 14, 12, 11,  9,  1, 17],\n",
       "      dtype=int64)"
      ]
     },
     "execution_count": 222,
     "metadata": {},
     "output_type": "execute_result"
    }
   ],
   "source": [
    "airbnb.accommodates.unique()"
   ]
  },
  {
   "cell_type": "code",
   "execution_count": 223,
   "id": "993fd82a",
   "metadata": {},
   "outputs": [
    {
     "data": {
      "text/plain": [
       "array([ 4,  3,  2,  1, 10,  5,  7,  6,  9,  8])"
      ]
     },
     "execution_count": 223,
     "metadata": {},
     "output_type": "execute_result"
    }
   ],
   "source": [
    "airbnb.bedrooms.unique()"
   ]
  },
  {
   "cell_type": "code",
   "execution_count": 13,
   "id": "37c3ee92",
   "metadata": {},
   "outputs": [],
   "source": [
    "airbnb= airbnb[airbnb['bedrooms']!=0]"
   ]
  },
  {
   "cell_type": "markdown",
   "id": "5127c448",
   "metadata": {},
   "source": [
    "### 1. Finding correlations"
   ]
  },
  {
   "cell_type": "code",
   "execution_count": 96,
   "id": "fba7a9e8",
   "metadata": {},
   "outputs": [
    {
     "data": {
      "text/html": [
       "<div>\n",
       "<style scoped>\n",
       "    .dataframe tbody tr th:only-of-type {\n",
       "        vertical-align: middle;\n",
       "    }\n",
       "\n",
       "    .dataframe tbody tr th {\n",
       "        vertical-align: top;\n",
       "    }\n",
       "\n",
       "    .dataframe thead th {\n",
       "        text-align: right;\n",
       "    }\n",
       "</style>\n",
       "<table border=\"1\" class=\"dataframe\">\n",
       "  <thead>\n",
       "    <tr style=\"text-align: right;\">\n",
       "      <th></th>\n",
       "      <th>room_id</th>\n",
       "      <th>survey_id</th>\n",
       "      <th>host_id</th>\n",
       "      <th>reviews</th>\n",
       "      <th>overall_satisfaction</th>\n",
       "      <th>accommodates</th>\n",
       "      <th>bedrooms</th>\n",
       "      <th>price</th>\n",
       "    </tr>\n",
       "  </thead>\n",
       "  <tbody>\n",
       "    <tr>\n",
       "      <th>room_id</th>\n",
       "      <td>1.000000</td>\n",
       "      <td>NaN</td>\n",
       "      <td>0.535329</td>\n",
       "      <td>-0.388243</td>\n",
       "      <td>-0.384681</td>\n",
       "      <td>0.007384</td>\n",
       "      <td>0.003352</td>\n",
       "      <td>-0.002679</td>\n",
       "    </tr>\n",
       "    <tr>\n",
       "      <th>survey_id</th>\n",
       "      <td>NaN</td>\n",
       "      <td>NaN</td>\n",
       "      <td>NaN</td>\n",
       "      <td>NaN</td>\n",
       "      <td>NaN</td>\n",
       "      <td>NaN</td>\n",
       "      <td>NaN</td>\n",
       "      <td>NaN</td>\n",
       "    </tr>\n",
       "    <tr>\n",
       "      <th>host_id</th>\n",
       "      <td>0.535329</td>\n",
       "      <td>NaN</td>\n",
       "      <td>1.000000</td>\n",
       "      <td>-0.182132</td>\n",
       "      <td>-0.204685</td>\n",
       "      <td>0.023385</td>\n",
       "      <td>0.013685</td>\n",
       "      <td>-0.011527</td>\n",
       "    </tr>\n",
       "    <tr>\n",
       "      <th>reviews</th>\n",
       "      <td>-0.388243</td>\n",
       "      <td>NaN</td>\n",
       "      <td>-0.182132</td>\n",
       "      <td>1.000000</td>\n",
       "      <td>0.315826</td>\n",
       "      <td>-0.065316</td>\n",
       "      <td>-0.112913</td>\n",
       "      <td>-0.083765</td>\n",
       "    </tr>\n",
       "    <tr>\n",
       "      <th>overall_satisfaction</th>\n",
       "      <td>-0.384681</td>\n",
       "      <td>NaN</td>\n",
       "      <td>-0.204685</td>\n",
       "      <td>0.315826</td>\n",
       "      <td>1.000000</td>\n",
       "      <td>-0.057798</td>\n",
       "      <td>-0.099638</td>\n",
       "      <td>-0.046642</td>\n",
       "    </tr>\n",
       "    <tr>\n",
       "      <th>accommodates</th>\n",
       "      <td>0.007384</td>\n",
       "      <td>NaN</td>\n",
       "      <td>0.023385</td>\n",
       "      <td>-0.065316</td>\n",
       "      <td>-0.057798</td>\n",
       "      <td>1.000000</td>\n",
       "      <td>0.752006</td>\n",
       "      <td>0.502070</td>\n",
       "    </tr>\n",
       "    <tr>\n",
       "      <th>bedrooms</th>\n",
       "      <td>0.003352</td>\n",
       "      <td>NaN</td>\n",
       "      <td>0.013685</td>\n",
       "      <td>-0.112913</td>\n",
       "      <td>-0.099638</td>\n",
       "      <td>0.752006</td>\n",
       "      <td>1.000000</td>\n",
       "      <td>0.458774</td>\n",
       "    </tr>\n",
       "    <tr>\n",
       "      <th>price</th>\n",
       "      <td>-0.002679</td>\n",
       "      <td>NaN</td>\n",
       "      <td>-0.011527</td>\n",
       "      <td>-0.083765</td>\n",
       "      <td>-0.046642</td>\n",
       "      <td>0.502070</td>\n",
       "      <td>0.458774</td>\n",
       "      <td>1.000000</td>\n",
       "    </tr>\n",
       "  </tbody>\n",
       "</table>\n",
       "</div>"
      ],
      "text/plain": [
       "                       room_id  survey_id   host_id   reviews  \\\n",
       "room_id               1.000000        NaN  0.535329 -0.388243   \n",
       "survey_id                  NaN        NaN       NaN       NaN   \n",
       "host_id               0.535329        NaN  1.000000 -0.182132   \n",
       "reviews              -0.388243        NaN -0.182132  1.000000   \n",
       "overall_satisfaction -0.384681        NaN -0.204685  0.315826   \n",
       "accommodates          0.007384        NaN  0.023385 -0.065316   \n",
       "bedrooms              0.003352        NaN  0.013685 -0.112913   \n",
       "price                -0.002679        NaN -0.011527 -0.083765   \n",
       "\n",
       "                      overall_satisfaction  accommodates  bedrooms     price  \n",
       "room_id                          -0.384681      0.007384  0.003352 -0.002679  \n",
       "survey_id                              NaN           NaN       NaN       NaN  \n",
       "host_id                          -0.204685      0.023385  0.013685 -0.011527  \n",
       "reviews                           0.315826     -0.065316 -0.112913 -0.083765  \n",
       "overall_satisfaction              1.000000     -0.057798 -0.099638 -0.046642  \n",
       "accommodates                     -0.057798      1.000000  0.752006  0.502070  \n",
       "bedrooms                         -0.099638      0.752006  1.000000  0.458774  \n",
       "price                            -0.046642      0.502070  0.458774  1.000000  "
      ]
     },
     "execution_count": 96,
     "metadata": {},
     "output_type": "execute_result"
    }
   ],
   "source": [
    "corr = airbnb.corr()\n",
    "corr"
   ]
  },
  {
   "cell_type": "code",
   "execution_count": 97,
   "id": "774cabad",
   "metadata": {},
   "outputs": [
    {
     "data": {
      "text/plain": [
       "<AxesSubplot:>"
      ]
     },
     "execution_count": 97,
     "metadata": {},
     "output_type": "execute_result"
    },
    {
     "data": {
      "image/png": "[encoded data removed]",
      "text/plain": [
       "<Figure size 432x288 with 2 Axes>"
      ]
     },
     "metadata": {
      "needs_background": "light"
     },
     "output_type": "display_data"
    }
   ],
   "source": [
    "sns.heatmap(corr)"
   ]
  },
  {
   "cell_type": "markdown",
   "id": "1740c31c",
   "metadata": {},
   "source": [
    "### 2. How does the price vary with respect to number of bedrooms"
   ]
  },
  {
   "cell_type": "code",
   "execution_count": 98,
   "id": "d47a121a",
   "metadata": {},
   "outputs": [
    {
     "data": {
      "text/plain": [
       "<seaborn.axisgrid.FacetGrid at 0x265798ece20>"
      ]
     },
     "execution_count": 98,
     "metadata": {},
     "output_type": "execute_result"
    },
    {
     "data": {
      "image/png": "[encoded data removed]",
      "text/plain": [
       "<Figure size 360x360 with 1 Axes>"
      ]
     },
     "metadata": {
      "needs_background": "light"
     },
     "output_type": "display_data"
    }
   ],
   "source": [
    "sns.catplot(x='bedrooms', y='price', data=airbnb, kind='box').set(title='Price vs Bedrooms')"
   ]
  },
  {
   "cell_type": "code",
   "execution_count": 55,
   "id": "a960192a",
   "metadata": {},
   "outputs": [
    {
     "name": "stderr",
     "output_type": "stream",
     "text": [
      "C:\\Users\\a.pradeep.chivate\\Anaconda3\\lib\\site-packages\\seaborn\\_decorators.py:36: FutureWarning: Pass the following variables as keyword args: x, y. From version 0.12, the only valid positional argument will be `data`, and passing other arguments without an explicit keyword will result in an error or misinterpretation.\n",
      "  warnings.warn(\n"
     ]
    },
    {
     "data": {
      "text/plain": [
       "[Text(0.5, 1.0, 'Price v Bedrooms')]"
      ]
     },
     "execution_count": 55,
     "metadata": {},
     "output_type": "execute_result"
    },
    {
     "data": {
      "image/png": "[encoded data removed]",
      "text/plain": [
       "<Figure size 432x288 with 1 Axes>"
      ]
     },
     "metadata": {
      "needs_background": "light"
     },
     "output_type": "display_data"
    }
   ],
   "source": [
    "#Removing the extreme outliers\n",
    "airbnb1 = airbnb[airbnb['price']<2500]\n",
    "sns.boxplot('bedrooms', 'price', data=airbnb1).set(title='Price v Bedrooms')"
   ]
  },
  {
   "cell_type": "markdown",
   "id": "53cc3c03",
   "metadata": {},
   "source": [
    "Interestingly, the price of apartments with more than 7 bedrooms is less than that for those with 7 bedrooms.\n",
    "Price for 10 bedroom apartment is almost equal to that of apartments with 5 rooms "
   ]
  },
  {
   "cell_type": "markdown",
   "id": "39510840",
   "metadata": {},
   "source": [
    "### 3. Neighborhood with the highest accommodity"
   ]
  },
  {
   "cell_type": "code",
   "execution_count": 64,
   "id": "9896eb8c",
   "metadata": {},
   "outputs": [
    {
     "name": "stderr",
     "output_type": "stream",
     "text": [
      "C:\\Users\\a.pradeep.chivate\\Anaconda3\\lib\\site-packages\\seaborn\\_decorators.py:36: FutureWarning: Pass the following variables as keyword args: x, y. From version 0.12, the only valid positional argument will be `data`, and passing other arguments without an explicit keyword will result in an error or misinterpretation.\n",
      "  warnings.warn(\n"
     ]
    },
    {
     "data": {
      "text/plain": [
       "<seaborn.axisgrid.FacetGrid at 0x265771b95b0>"
      ]
     },
     "execution_count": 64,
     "metadata": {},
     "output_type": "execute_result"
    },
    {
     "data": {
      "image/png": "[encoded data removed]",
      "text/plain": [
       "<Figure size 720x360 with 1 Axes>"
      ]
     },
     "metadata": {
      "needs_background": "light"
     },
     "output_type": "display_data"
    }
   ],
   "source": [
    "avail = airbnb.groupby('neighborhood').accommodates.sum().sort_values(ascending = False)[:5]\n",
    "avail = avail.reset_index()\n",
    "sns.relplot(x='neighborhood',y='accommodates', data = avail, legend = True, aspect = 2, kind='line').set(title='Top 5 neighborhoods with highest accommodity')"
   ]
  },
  {
   "cell_type": "markdown",
   "id": "ab42e43b",
   "metadata": {},
   "source": [
    "### 4. Neighborhoods with most number of apartments having rating greater than 4"
   ]
  },
  {
   "cell_type": "code",
   "execution_count": 82,
   "id": "4cc8ef59",
   "metadata": {},
   "outputs": [],
   "source": [
    "overall_satis = airbnb[airbnb['overall_satisfaction']>=4]\n",
    "ratings = pd.pivot_table(overall_satis, index = 'neighborhood', columns = 'overall_satisfaction', values='room_id', aggfunc='count')\n",
    "ratings = ratings.sort_values(5.0, ascending = False)"
   ]
  },
  {
   "cell_type": "code",
   "execution_count": 84,
   "id": "2fc68461",
   "metadata": {},
   "outputs": [
    {
     "data": {
      "text/plain": [
       "<AxesSubplot:title={'center':'Number of apartments in each neighborhood having rating greater than 4'}, xlabel='neighborhood'>"
      ]
     },
     "execution_count": 84,
     "metadata": {},
     "output_type": "execute_result"
    },
    {
     "data": {
      "image/png": "[encoded data removed]",
      "text/plain": [
       "<Figure size 576x360 with 1 Axes>"
      ]
     },
     "metadata": {
      "needs_background": "light"
     },
     "output_type": "display_data"
    }
   ],
   "source": [
    "ratings.plot(kind='bar', figsize=(8,5), title = 'Number of apartments in each neighborhood having rating greater than 4')"
   ]
  },
  {
   "cell_type": "markdown",
   "id": "dbc1aa2e",
   "metadata": {},
   "source": [
    "### 5. Checking the Most and Least Expensive neighborhoods and their respective ratings"
   ]
  },
  {
   "cell_type": "markdown",
   "id": "16ce12b1",
   "metadata": {},
   "source": [
    "To check the how expensive a neighborhood is, the average price i.e Total Price/Count is not an accurate parameter as every apartment has different number of rooms. Hence, a new parameter, price/room can be used for a better and accurate comparison. "
   ]
  },
  {
   "cell_type": "code",
   "execution_count": 96,
   "id": "ef24637c",
   "metadata": {},
   "outputs": [
    {
     "data": {
      "text/html": [
       "<div>\n",
       "<style scoped>\n",
       "    .dataframe tbody tr th:only-of-type {\n",
       "        vertical-align: middle;\n",
       "    }\n",
       "\n",
       "    .dataframe tbody tr th {\n",
       "        vertical-align: top;\n",
       "    }\n",
       "\n",
       "    .dataframe thead th {\n",
       "        text-align: right;\n",
       "    }\n",
       "</style>\n",
       "<table border=\"1\" class=\"dataframe\">\n",
       "  <thead>\n",
       "    <tr style=\"text-align: right;\">\n",
       "      <th></th>\n",
       "      <th>neighborhood</th>\n",
       "      <th>price</th>\n",
       "      <th>bedrooms</th>\n",
       "      <th>Price/Room</th>\n",
       "    </tr>\n",
       "  </thead>\n",
       "  <tbody>\n",
       "    <tr>\n",
       "      <th>5</th>\n",
       "      <td>Centrum West</td>\n",
       "      <td>424213.0</td>\n",
       "      <td>2833</td>\n",
       "      <td>149.739852</td>\n",
       "    </tr>\n",
       "    <tr>\n",
       "      <th>4</th>\n",
       "      <td>Centrum Oost</td>\n",
       "      <td>327167.0</td>\n",
       "      <td>2389</td>\n",
       "      <td>136.947258</td>\n",
       "    </tr>\n",
       "    <tr>\n",
       "      <th>21</th>\n",
       "      <td>Westerpark</td>\n",
       "      <td>223282.0</td>\n",
       "      <td>1877</td>\n",
       "      <td>118.956846</td>\n",
       "    </tr>\n",
       "    <tr>\n",
       "      <th>8</th>\n",
       "      <td>De Pijp / Rivierenbuurt</td>\n",
       "      <td>381106.0</td>\n",
       "      <td>3255</td>\n",
       "      <td>117.083257</td>\n",
       "    </tr>\n",
       "    <tr>\n",
       "      <th>7</th>\n",
       "      <td>De Baarsjes / Oud West</td>\n",
       "      <td>505365.0</td>\n",
       "      <td>4515</td>\n",
       "      <td>111.930233</td>\n",
       "    </tr>\n",
       "  </tbody>\n",
       "</table>\n",
       "</div>"
      ],
      "text/plain": [
       "               neighborhood     price  bedrooms  Price/Room\n",
       "5              Centrum West  424213.0      2833  149.739852\n",
       "4              Centrum Oost  327167.0      2389  136.947258\n",
       "21               Westerpark  223282.0      1877  118.956846\n",
       "8   De Pijp / Rivierenbuurt  381106.0      3255  117.083257\n",
       "7    De Baarsjes / Oud West  505365.0      4515  111.930233"
      ]
     },
     "execution_count": 96,
     "metadata": {},
     "output_type": "execute_result"
    }
   ],
   "source": [
    "prices = airbnb.groupby('neighborhood').agg({'price':'sum', 'bedrooms':'sum'})\n",
    "prices = prices.reset_index()\n",
    "prices['Price/Room'] = prices['price']/prices['bedrooms']\n",
    "prices_top = prices.sort_values(by='Price/Room', ascending = False)[:5]\n",
    "prices_top"
   ]
  },
  {
   "cell_type": "code",
   "execution_count": 86,
   "id": "16ea07d6",
   "metadata": {},
   "outputs": [
    {
     "data": {
      "text/plain": [
       "<seaborn.axisgrid.FacetGrid at 0x26579784f10>"
      ]
     },
     "execution_count": 86,
     "metadata": {},
     "output_type": "execute_result"
    },
    {
     "data": {
      "image/png": "[encoded data removed]",
      "text/plain": [
       "<Figure size 513.5x360 with 1 Axes>"
      ]
     },
     "metadata": {
      "needs_background": "light"
     },
     "output_type": "display_data"
    }
   ],
   "source": [
    "pricevr = airbnb.groupby('neighborhood').agg({'price':'sum', 'bedrooms':'sum', 'overall_satisfaction':'mean'})\n",
    "pricevr = pricevr.reset_index()\n",
    "pricevr.overall_satisfaction = pricevr.overall_satisfaction.round(2)\n",
    "pricevr['Price/Room'] = pricevr['price']/pricevr['bedrooms']\n",
    "prices_top = pricevr.sort_values(by='Price/Room', ascending = False)[:5]\n",
    "ratings_top = pricevr.sort_values(by='overall_satisfaction', ascending = False)[:5]\n",
    "sns.catplot(x='overall_satisfaction', y='Price/Room',hue='neighborhood', data = prices_top, kind='bar').set(title='Top 5 Most Expensive Neighborhoods')"
   ]
  },
  {
   "cell_type": "code",
   "execution_count": 88,
   "id": "14262de7",
   "metadata": {},
   "outputs": [
    {
     "data": {
      "text/html": [
       "<div>\n",
       "<style scoped>\n",
       "    .dataframe tbody tr th:only-of-type {\n",
       "        vertical-align: middle;\n",
       "    }\n",
       "\n",
       "    .dataframe tbody tr th {\n",
       "        vertical-align: top;\n",
       "    }\n",
       "\n",
       "    .dataframe thead th {\n",
       "        text-align: right;\n",
       "    }\n",
       "</style>\n",
       "<table border=\"1\" class=\"dataframe\">\n",
       "  <thead>\n",
       "    <tr style=\"text-align: right;\">\n",
       "      <th></th>\n",
       "      <th>neighborhood</th>\n",
       "      <th>price</th>\n",
       "      <th>bedrooms</th>\n",
       "      <th>overall_satisfaction</th>\n",
       "      <th>Price/Room</th>\n",
       "    </tr>\n",
       "  </thead>\n",
       "  <tbody>\n",
       "    <tr>\n",
       "      <th>13</th>\n",
       "      <td>Noord West</td>\n",
       "      <td>30686.0</td>\n",
       "      <td>468</td>\n",
       "      <td>3.10</td>\n",
       "      <td>65.568376</td>\n",
       "    </tr>\n",
       "    <tr>\n",
       "      <th>0</th>\n",
       "      <td>Bijlmer Centrum</td>\n",
       "      <td>7917.0</td>\n",
       "      <td>116</td>\n",
       "      <td>3.32</td>\n",
       "      <td>68.250000</td>\n",
       "    </tr>\n",
       "    <tr>\n",
       "      <th>12</th>\n",
       "      <td>Noord Oost</td>\n",
       "      <td>29464.0</td>\n",
       "      <td>419</td>\n",
       "      <td>2.81</td>\n",
       "      <td>70.319809</td>\n",
       "    </tr>\n",
       "    <tr>\n",
       "      <th>1</th>\n",
       "      <td>Bijlmer Oost</td>\n",
       "      <td>9309.0</td>\n",
       "      <td>132</td>\n",
       "      <td>3.12</td>\n",
       "      <td>70.522727</td>\n",
       "    </tr>\n",
       "    <tr>\n",
       "      <th>11</th>\n",
       "      <td>Ijburg / Eiland Zeeburg</td>\n",
       "      <td>63811.0</td>\n",
       "      <td>841</td>\n",
       "      <td>2.78</td>\n",
       "      <td>75.875149</td>\n",
       "    </tr>\n",
       "  </tbody>\n",
       "</table>\n",
       "</div>"
      ],
      "text/plain": [
       "               neighborhood    price  bedrooms  overall_satisfaction  \\\n",
       "13               Noord West  30686.0       468                  3.10   \n",
       "0           Bijlmer Centrum   7917.0       116                  3.32   \n",
       "12               Noord Oost  29464.0       419                  2.81   \n",
       "1              Bijlmer Oost   9309.0       132                  3.12   \n",
       "11  Ijburg / Eiland Zeeburg  63811.0       841                  2.78   \n",
       "\n",
       "    Price/Room  \n",
       "13   65.568376  \n",
       "0    68.250000  \n",
       "12   70.319809  \n",
       "1    70.522727  \n",
       "11   75.875149  "
      ]
     },
     "execution_count": 88,
     "metadata": {},
     "output_type": "execute_result"
    }
   ],
   "source": [
    "prices_bot = pricevr.sort_values(by='Price/Room')[:5]\n",
    "prices_bot"
   ]
  },
  {
   "cell_type": "code",
   "execution_count": 89,
   "id": "afe0017c",
   "metadata": {},
   "outputs": [
    {
     "data": {
      "text/plain": [
       "<seaborn.axisgrid.FacetGrid at 0x265798223a0>"
      ]
     },
     "execution_count": 89,
     "metadata": {},
     "output_type": "execute_result"
    },
    {
     "data": {
      "image/png": "[encoded data removed]",
      "text/plain": [
       "<Figure size 510.5x360 with 1 Axes>"
      ]
     },
     "metadata": {
      "needs_background": "light"
     },
     "output_type": "display_data"
    }
   ],
   "source": [
    "sns.catplot(x='overall_satisfaction', y='Price/Room',hue='neighborhood', data = prices_bot, kind='bar').set(title='Top 5 Least Expensive Neighborhoods')"
   ]
  },
  {
   "cell_type": "markdown",
   "id": "ef448cae",
   "metadata": {},
   "source": [
    "From the above two charts, it can be concluded that the top 5 most expensive neighborhoods also have very good average ratings. However, some neighborhoods like 'Bijlmer Centrum', inspite of having a low price per room have a rating almost equal to the top ratings. Thus making these nighborhoods a good as well affordable places to book an apartment. The only cache(as can be seen from the tables) is they have less number of total rooms available. "
   ]
  },
  {
   "cell_type": "markdown",
   "id": "469ddd4c",
   "metadata": {},
   "source": [
    "### 6. Distribution of reviews vs ratings for each room type"
   ]
  },
  {
   "cell_type": "code",
   "execution_count": 99,
   "id": "0ef55fef",
   "metadata": {},
   "outputs": [
    {
     "data": {
      "text/plain": [
       "<seaborn.axisgrid.FacetGrid at 0x26579868880>"
      ]
     },
     "execution_count": 99,
     "metadata": {},
     "output_type": "execute_result"
    },
    {
     "data": {
      "image/png": "[encoded data removed]",
      "text/plain": [
       "<Figure size 836.25x360 with 1 Axes>"
      ]
     },
     "metadata": {
      "needs_background": "light"
     },
     "output_type": "display_data"
    }
   ],
   "source": [
    "sns.relplot(x='overall_satisfaction', y='reviews', hue='room_type', data = airbnb,aspect = 2, kind='line').set(title='Avg number of reviews for each rating')"
   ]
  },
  {
   "cell_type": "markdown",
   "id": "e1305a83",
   "metadata": {},
   "source": [
    "### For accommodates between 5 & 8, which room type has the best overall satisfaction and price less than 500?"
   ]
  },
  {
   "cell_type": "code",
   "execution_count": 144,
   "id": "67f6da8f",
   "metadata": {},
   "outputs": [],
   "source": [
    "roomt = airbnb[(airbnb['accommodates'].isin([5,6,7,8])) & (airbnb['price']<500)]\n",
    "#roomt[roomt['room_type']=='Entire home/apt' & ]"
   ]
  },
  {
   "cell_type": "code",
   "execution_count": 148,
   "id": "c371ce64",
   "metadata": {},
   "outputs": [
    {
     "data": {
      "text/plain": [
       "<seaborn.axisgrid.FacetGrid at 0x26509fe8340>"
      ]
     },
     "execution_count": 148,
     "metadata": {},
     "output_type": "execute_result"
    },
    {
     "data": {
      "image/png": "[encoded data removed]",
      "text/plain": [
       "<Figure size 476.25x360 with 1 Axes>"
      ]
     },
     "metadata": {
      "needs_background": "light"
     },
     "output_type": "display_data"
    }
   ],
   "source": [
    "sns.catplot(x='overall_satisfaction', y='price', hue='room_type', data = roomt, kind = 'bar').set(title='Comparison of room types for 5-8 accommodates')"
   ]
  },
  {
   "cell_type": "markdown",
   "id": "a31b24f3",
   "metadata": {},
   "source": [
    "Thus, for the same overall satisfaction private rooms costs much less than the Entire home/apt"
   ]
  },
  {
   "cell_type": "code",
   "execution_count": null,
   "id": "3772af71",
   "metadata": {},
   "outputs": [],
   "source": []
  },
  {
   "cell_type": "code",
   "execution_count": null,
   "id": "ffe8e006",
   "metadata": {},
   "outputs": [],
   "source": []
  }
 ],
 "metadata": {
  "celltoolbar": "Raw Cell Format",
  "kernelspec": {
   "display_name": "Python 3 (ipykernel)",
   "language": "python",
   "name": "python3"
  },
  "language_info": {
   "codemirror_mode": {
    "name": "ipython",
    "version": 3
   },
   "file_extension": ".py",
   "mimetype": "text/x-python",
   "name": "python",
   "nbconvert_exporter": "python",
   "pygments_lexer": "ipython3",
   "version": "3.9.7"
  }
 },
 "nbformat": 4,
 "nbformat_minor": 5
}
